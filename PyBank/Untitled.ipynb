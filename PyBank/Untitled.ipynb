{
 "cells": [
  {
   "cell_type": "code",
   "execution_count": 9,
   "metadata": {},
   "outputs": [],
   "source": [
    "# import modules\n",
    "import os\n",
    "import csv\n",
    "\n",
    "csvpath = os.path.join('Resources', 'budget_data.csv')"
   ]
  },
  {
   "cell_type": "code",
   "execution_count": 43,
   "metadata": {},
   "outputs": [],
   "source": [
    "# Define variables\n",
    "total_months = 0\n",
    "total_net = 0\n",
    "monthly_change = 0\n",
    "net_change_list = []\n",
    "greatest_increase = 0\n",
    "greatest_increase_month = 0\n",
    "greatest_decrease = 0\n",
    "greatest_increase_month = 0"
   ]
  },
  {
   "cell_type": "code",
   "execution_count": 45,
   "metadata": {
    "scrolled": true
   },
   "outputs": [
    {
     "name": "stdout",
     "output_type": "stream",
     "text": [
      "Total Months: $ 171\n",
      "Total Change: $ 75386931\n",
      "Average Change: $ -330774.78106508875\n"
     ]
    }
   ],
   "source": [
    "with open(csvpath) as csvfile:\n",
    "\n",
    "    csvreader = csv.reader(csvfile, delimiter=',')\n",
    "    header=next(csvreader)\n",
    "\n",
    "    \n",
    "# Read each row of data after the header\n",
    "    prev_net = int(row[1])\n",
    "    total_months= total_months + 1\n",
    "    total_net = total_net+int(row[1])\n",
    "    greatest_increase = int(row[1])\n",
    "    greatest_increase_month = row[0]\n",
    "    first_row = next(csvreader)\n",
    "\n",
    "    for row in csvreader:\n",
    "        total_months= total_months + 1\n",
    "        total_net = total_net+int(row[1])\n",
    "        monthly_change=int(row[1])-prev_net\n",
    "        net_change_list.append(monthly_change)\n",
    "        \n",
    "        if int(row[1])>greatest_increase:\n",
    "            greatest_increase=int(row[1])\n",
    "            greatest_increase_month = row[0]\n",
    "        if int(row[1])<greatest_decrease:\n",
    "            greatest_decrease=int(row[1])\n",
    "            greatest_decrease_month=row[0]\n",
    "\n",
    "# Calculate the average change\n",
    "average_change=sum(net_change_list)/len(net_change_list)\n",
    "\n",
    "#Find the highest and lowest change\n",
    "\n",
    "highest= max(net_change_list)\n",
    "\n",
    "print(f\"Total Months: $ {total_months}\")\n",
    "print(f\"Total Change: $ {total_net}\")\n",
    "print(f\"Average Change: $ {average_change}\")\n",
    "\n",
    "   \n",
    " "
   ]
  },
  {
   "cell_type": "code",
   "execution_count": null,
   "metadata": {},
   "outputs": [],
   "source": []
  }
 ],
 "metadata": {
  "kernelspec": {
   "display_name": "Python 3",
   "language": "python",
   "name": "python3"
  },
  "language_info": {
   "codemirror_mode": {
    "name": "ipython",
    "version": 3
   },
   "file_extension": ".py",
   "mimetype": "text/x-python",
   "name": "python",
   "nbconvert_exporter": "python",
   "pygments_lexer": "ipython3",
   "version": "3.7.7"
  }
 },
 "nbformat": 4,
 "nbformat_minor": 4
}
