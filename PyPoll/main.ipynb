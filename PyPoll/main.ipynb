{
 "cells": [
  {
   "cell_type": "code",
   "execution_count": 1,
   "metadata": {},
   "outputs": [],
   "source": [
    "# import modules\n",
    "import os\n",
    "import csv"
   ]
  },
  {
   "cell_type": "code",
   "execution_count": 27,
   "metadata": {},
   "outputs": [],
   "source": [
    "csvpath = os.path.join('Resources', 'election_data.csv')\n",
    "Khan_vote=0\n",
    "Correy_vote=0\n",
    "Li_vote=0\n",
    "Tooley_vote=0\n",
    "total_vote=0"
   ]
  },
  {
   "cell_type": "code",
   "execution_count": 52,
   "metadata": {},
   "outputs": [
    {
     "name": "stdout",
     "output_type": "stream",
     "text": [
      "Election Results\n",
      "Total Votes:35210011\n",
      "Khan:63.000008719111165 (22182310)\n",
      "Correy:15.999995001421613 (5633600)\n",
      "Li:11.199996500995129 (3943520)\n",
      "O'Tooley:2.399999250213242 (845040)\n",
      "Winner: Khan\n"
     ]
    }
   ],
   "source": [
    "# Improved Reading using CSV module\n",
    "with open(csvpath) as csvfile:\n",
    "\n",
    "    csvreader = csv.reader(csvfile, delimiter=',')\n",
    "    csv_header = next(csvreader)\n",
    "    for row in csvreader:\n",
    "        total_vote += 1\n",
    "    \n",
    "        if (row[2] == \"Khan\"):\n",
    "            Khan_vote += 1\n",
    "        elif (row[2] == \"Correy\"):\n",
    "            Correy_vote += 1\n",
    "        elif (row[2] == \"Li\"):\n",
    "            Li_vote += 1\n",
    "        else:\n",
    "            Tooley_vote += 1\n",
    "    \n",
    "    # Calculate the percentage\n",
    "    Khan_percent=Khan_vote/total_vote\n",
    "    Correy_percent=Correy_vote/total_vote\n",
    "    Li_percent=Li_vote/total_vote\n",
    "    Tooley_percent=Tooley_vote/total_vote\n",
    "    \n",
    "    #Find the winner\n",
    "    winner=max(Khan_vote, Correy_vote, Li_vote, Tooley_vote)\n",
    "    \n",
    "    if winner==Khan_vote:\n",
    "        w_name=\"Khan\"\n",
    "    elif winner==Correy_vote:\n",
    "        w_name=\"Correy\"\n",
    "    elif winner==Li_vote:\n",
    "        w_name=\"Li\"\n",
    "    else:\n",
    "        w_name=\"O'Tooley\"\n",
    "\n",
    "print(\"Election Results\")\n",
    "print(f\"Total Votes:{total_vote}\")\n",
    "print(f\"Khan:{Khan_percent*100} ({Khan_vote})\")\n",
    "print(f\"Correy:{Correy_percent*100} ({Correy_vote})\")\n",
    "print(f\"Li:{Li_percent*100} ({Li_vote})\")\n",
    "print(f\"O'Tooley:{Tooley_percent*100} ({Tooley_vote})\")\n",
    "print(f\"Winner: {w_name}\")"
   ]
  },
  {
   "cell_type": "code",
   "execution_count": null,
   "metadata": {},
   "outputs": [],
   "source": []
  },
  {
   "cell_type": "code",
   "execution_count": null,
   "metadata": {},
   "outputs": [],
   "source": []
  }
 ],
 "metadata": {
  "kernelspec": {
   "display_name": "Python 3",
   "language": "python",
   "name": "python3"
  },
  "language_info": {
   "codemirror_mode": {
    "name": "ipython",
    "version": 3
   },
   "file_extension": ".py",
   "mimetype": "text/x-python",
   "name": "python",
   "nbconvert_exporter": "python",
   "pygments_lexer": "ipython3",
   "version": "3.7.7"
  }
 },
 "nbformat": 4,
 "nbformat_minor": 4
}
